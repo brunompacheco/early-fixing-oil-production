{
 "cells": [
  {
   "cell_type": "code",
   "execution_count": 1,
   "metadata": {},
   "outputs": [],
   "source": [
    "%load_ext autoreload\n",
    "%autoreload 2\n",
    "\n",
    "import sys\n",
    "sys.path.append('..')  # enable import from src/"
   ]
  },
  {
   "cell_type": "code",
   "execution_count": 17,
   "metadata": {},
   "outputs": [],
   "source": [
    "import pickle\n",
    "\n",
    "from src.model import get_model, fix_c_gl, get_C_GL"
   ]
  },
  {
   "cell_type": "code",
   "execution_count": 14,
   "metadata": {},
   "outputs": [
    {
     "name": "stdout",
     "output_type": "stream",
     "text": [
      "Set parameter IntFeasTol to value 1e-09\n",
      "Gurobi Optimizer version 10.0.1 build v10.0.1rc0 (linux64)\n",
      "\n",
      "CPU model: 12th Gen Intel(R) Core(TM) i7-12700, instruction set [SSE2|AVX|AVX2]\n",
      "Thread count: 20 physical cores, 20 logical processors, using up to 20 threads\n",
      "\n",
      "Optimize a model with 62 rows, 58 columns and 253 nonzeros\n",
      "Model fingerprint: 0x1b4fc1e4\n",
      "Model has 2 SOS constraints\n",
      "Variable types: 58 continuous, 0 integer (0 binary)\n",
      "Coefficient statistics:\n",
      "  Matrix range     [1e-01, 3e+05]\n",
      "  Objective range  [1e+00, 1e+00]\n",
      "  Bounds range     [0e+00, 0e+00]\n",
      "  RHS range        [1e+00, 1e+06]\n",
      "Presolve removed 30 rows and 6 columns\n",
      "Presolve time: 0.00s\n",
      "Presolved: 32 rows, 52 columns, 161 nonzeros\n",
      "Variable types: 44 continuous, 8 integer (8 binary)\n",
      "Found heuristic solution: objective 431.5763920\n",
      "\n",
      "Root relaxation: objective 4.446139e+02, 12 iterations, 0.00 seconds (0.00 work units)\n",
      "\n",
      "    Nodes    |    Current Node    |     Objective Bounds      |     Work\n",
      " Expl Unexpl |  Obj  Depth IntInf | Incumbent    BestBd   Gap | It/Node Time\n",
      "\n",
      "*    0     0               0     444.6138760  444.61388  0.00%     -    0s\n",
      "\n",
      "Explored 1 nodes (12 simplex iterations) in 0.01 seconds (0.00 work units)\n",
      "Thread count was 20 (of 20 available processors)\n",
      "\n",
      "Solution count 2: 444.614 431.576 \n",
      "\n",
      "Optimal solution found (tolerance 1.00e-04)\n",
      "Best objective 4.446138760000e+02, best bound 4.446138760000e+02, gap 0.0000%\n"
     ]
    },
    {
     "data": {
      "text/plain": [
       "2"
      ]
     },
     "execution_count": 14,
     "metadata": {},
     "output_type": "execute_result"
    }
   ],
   "source": [
    "well_fpath = '../data/raw/MLS-10_2020_12_25_potencial.pkl'\n",
    "\n",
    "with open(well_fpath, 'rb') as f:\n",
    "    well = pickle.load(f)\n",
    "\n",
    "model = get_model([well,])\n",
    "\n",
    "model.optimize()\n",
    "\n",
    "model.status"
   ]
  },
  {
   "cell_type": "code",
   "execution_count": 19,
   "metadata": {},
   "outputs": [
    {
     "data": {
      "text/plain": [
       "[<gurobi.Var ckp_n[0] (value 10.0)>,\n",
       " <gurobi.Var q_oil_n[0] (value 444.6138759999998)>,\n",
       " <gurobi.Var q_water_n[0] (value 2758.656124)>,\n",
       " <gurobi.Var q_gas_n[0] (value 49352.14023599997)>,\n",
       " <gurobi.Var q_gl_n[0] (value 180000.0)>,\n",
       " <gurobi.Var q_liq_n[0] (value 3203.27)>,\n",
       " <gurobi.Var q_liq_m[0] (value 3203.27)>,\n",
       " <gurobi.Var q_oil_m[0] (value 444.6138759999998)>,\n",
       " <gurobi.Var q_water_m[0] (value 2758.656124)>,\n",
       " <gurobi.Var q_gas_m[0] (value 49352.14023599997)>,\n",
       " <gurobi.Var lmbd_n_c_gl[0,10.0,0.0] (value 0.0)>,\n",
       " <gurobi.Var lmbd_n_c_gl[0,10.0,60000.0] (value 0.0)>,\n",
       " <gurobi.Var lmbd_n_c_gl[0,10.0,120000.0] (value 0.0)>,\n",
       " <gurobi.Var lmbd_n_c_gl[0,10.0,180000.0] (value 1.0)>,\n",
       " <gurobi.Var lmbd_n_c_gl[0,10.0,240000.0] (value 0.0)>,\n",
       " <gurobi.Var lmbd_n_c_gl[0,10.0,300000.0] (value 0.0)>,\n",
       " <gurobi.Var lmbd_n_c_gl[0,24.0,0.0] (value 0.0)>,\n",
       " <gurobi.Var lmbd_n_c_gl[0,24.0,60000.0] (value 0.0)>,\n",
       " <gurobi.Var lmbd_n_c_gl[0,24.0,120000.0] (value 0.0)>,\n",
       " <gurobi.Var lmbd_n_c_gl[0,24.0,180000.0] (value 0.0)>,\n",
       " <gurobi.Var lmbd_n_c_gl[0,24.0,240000.0] (value 0.0)>,\n",
       " <gurobi.Var lmbd_n_c_gl[0,24.0,300000.0] (value 0.0)>,\n",
       " <gurobi.Var lmbd_n_c_gl[0,38.0,0.0] (value 0.0)>,\n",
       " <gurobi.Var lmbd_n_c_gl[0,38.0,60000.0] (value 0.0)>,\n",
       " <gurobi.Var lmbd_n_c_gl[0,38.0,120000.0] (value 0.0)>,\n",
       " <gurobi.Var lmbd_n_c_gl[0,38.0,180000.0] (value 0.0)>,\n",
       " <gurobi.Var lmbd_n_c_gl[0,38.0,240000.0] (value 0.0)>,\n",
       " <gurobi.Var lmbd_n_c_gl[0,38.0,300000.0] (value 0.0)>,\n",
       " <gurobi.Var lmbd_n_c_gl[0,52.0,0.0] (value 0.0)>,\n",
       " <gurobi.Var lmbd_n_c_gl[0,52.0,60000.0] (value 0.0)>,\n",
       " <gurobi.Var lmbd_n_c_gl[0,52.0,120000.0] (value 0.0)>,\n",
       " <gurobi.Var lmbd_n_c_gl[0,52.0,180000.0] (value 0.0)>,\n",
       " <gurobi.Var lmbd_n_c_gl[0,52.0,240000.0] (value 0.0)>,\n",
       " <gurobi.Var lmbd_n_c_gl[0,52.0,300000.0] (value 0.0)>,\n",
       " <gurobi.Var lmbd_n_c_gl[0,66.0,0.0] (value 0.0)>,\n",
       " <gurobi.Var lmbd_n_c_gl[0,66.0,60000.0] (value 0.0)>,\n",
       " <gurobi.Var lmbd_n_c_gl[0,66.0,120000.0] (value 0.0)>,\n",
       " <gurobi.Var lmbd_n_c_gl[0,66.0,180000.0] (value 0.0)>,\n",
       " <gurobi.Var lmbd_n_c_gl[0,66.0,240000.0] (value 0.0)>,\n",
       " <gurobi.Var lmbd_n_c_gl[0,66.0,300000.0] (value 0.0)>,\n",
       " <gurobi.Var lmbd_n_c_gl[0,80.0,0.0] (value 0.0)>,\n",
       " <gurobi.Var lmbd_n_c_gl[0,80.0,60000.0] (value 0.0)>,\n",
       " <gurobi.Var lmbd_n_c_gl[0,80.0,120000.0] (value 0.0)>,\n",
       " <gurobi.Var lmbd_n_c_gl[0,80.0,180000.0] (value 0.0)>,\n",
       " <gurobi.Var lmbd_n_c_gl[0,80.0,240000.0] (value 0.0)>,\n",
       " <gurobi.Var lmbd_n_c_gl[0,80.0,300000.0] (value 0.0)>,\n",
       " <gurobi.Var eta_n_c[0,10.0] (value 1.0)>,\n",
       " <gurobi.Var eta_n_c[0,24.0] (value 0.0)>,\n",
       " <gurobi.Var eta_n_c[0,38.0] (value 0.0)>,\n",
       " <gurobi.Var eta_n_c[0,52.0] (value 0.0)>,\n",
       " <gurobi.Var eta_n_c[0,66.0] (value 0.0)>,\n",
       " <gurobi.Var eta_n_c[0,80.0] (value 0.0)>,\n",
       " <gurobi.Var eta_n_gl[0,0.0] (value 0.0)>,\n",
       " <gurobi.Var eta_n_gl[0,60000.0] (value 0.0)>,\n",
       " <gurobi.Var eta_n_gl[0,120000.0] (value 0.0)>,\n",
       " <gurobi.Var eta_n_gl[0,180000.0] (value 1.0)>,\n",
       " <gurobi.Var eta_n_gl[0,240000.0] (value 0.0)>,\n",
       " <gurobi.Var eta_n_gl[0,300000.0] (value 0.0)>]"
      ]
     },
     "execution_count": 19,
     "metadata": {},
     "output_type": "execute_result"
    }
   ],
   "source": [
    "model.getVars()"
   ]
  },
  {
   "cell_type": "code",
   "execution_count": 18,
   "metadata": {},
   "outputs": [
    {
     "data": {
      "text/plain": [
       "(array([10., 24., 38., 52., 66., 80.]),\n",
       " array([     0.,  60000., 120000., 180000., 240000., 300000.]))"
      ]
     },
     "execution_count": 18,
     "metadata": {},
     "output_type": "execute_result"
    }
   ],
   "source": [
    "get_C_GL(None)"
   ]
  },
  {
   "cell_type": "code",
   "execution_count": 22,
   "metadata": {},
   "outputs": [
    {
     "name": "stdout",
     "output_type": "stream",
     "text": [
      "Set parameter IntFeasTol to value 1e-09\n",
      "Gurobi Optimizer version 10.0.1 build v10.0.1rc0 (linux64)\n",
      "\n",
      "CPU model: 12th Gen Intel(R) Core(TM) i7-12700, instruction set [SSE2|AVX|AVX2]\n",
      "Thread count: 20 physical cores, 20 logical processors, using up to 20 threads\n",
      "\n",
      "Optimize a model with 62 rows, 58 columns and 253 nonzeros\n",
      "Model fingerprint: 0x89a5ef2a\n",
      "Model has 2 SOS constraints\n",
      "Variable types: 58 continuous, 0 integer (0 binary)\n",
      "Coefficient statistics:\n",
      "  Matrix range     [1e-01, 3e+05]\n",
      "  Objective range  [1e+00, 1e+00]\n",
      "  Bounds range     [0e+00, 0e+00]\n",
      "  RHS range        [1e+00, 1e+06]\n",
      "Presolve removed 62 rows and 58 columns\n",
      "Presolve time: 0.00s\n",
      "Presolve: All rows and columns removed\n",
      "\n",
      "Explored 0 nodes (0 simplex iterations) in 0.00 seconds (0.00 work units)\n",
      "Thread count was 1 (of 20 available processors)\n",
      "\n",
      "Solution count 1: 414.82 \n",
      "\n",
      "Optimal solution found (tolerance 1.00e-04)\n",
      "Best objective 4.148204560000e+02, best bound 4.148204560000e+02, gap 0.0000%\n"
     ]
    },
    {
     "data": {
      "text/plain": [
       "[<gurobi.Var ckp_n[0] (value 24.0)>,\n",
       " <gurobi.Var q_oil_n[0] (value 414.82045599999975)>,\n",
       " <gurobi.Var q_water_n[0] (value 2573.799544)>,\n",
       " <gurobi.Var q_gas_n[0] (value 46045.070615999975)>,\n",
       " <gurobi.Var q_gl_n[0] (value 240000.0)>,\n",
       " <gurobi.Var q_liq_n[0] (value 2988.62)>,\n",
       " <gurobi.Var q_liq_m[0] (value 2988.62)>,\n",
       " <gurobi.Var q_oil_m[0] (value 414.82045599999975)>,\n",
       " <gurobi.Var q_water_m[0] (value 2573.799544)>,\n",
       " <gurobi.Var q_gas_m[0] (value 46045.070615999975)>,\n",
       " <gurobi.Var lmbd_n_c_gl[0,10.0,0.0] (value 0.0)>,\n",
       " <gurobi.Var lmbd_n_c_gl[0,10.0,60000.0] (value 0.0)>,\n",
       " <gurobi.Var lmbd_n_c_gl[0,10.0,120000.0] (value 0.0)>,\n",
       " <gurobi.Var lmbd_n_c_gl[0,10.0,180000.0] (value 0.0)>,\n",
       " <gurobi.Var lmbd_n_c_gl[0,10.0,240000.0] (value 0.0)>,\n",
       " <gurobi.Var lmbd_n_c_gl[0,10.0,300000.0] (value 0.0)>,\n",
       " <gurobi.Var lmbd_n_c_gl[0,24.0,0.0] (value 0.0)>,\n",
       " <gurobi.Var lmbd_n_c_gl[0,24.0,60000.0] (value 0.0)>,\n",
       " <gurobi.Var lmbd_n_c_gl[0,24.0,120000.0] (value 0.0)>,\n",
       " <gurobi.Var lmbd_n_c_gl[0,24.0,180000.0] (value -0.0)>,\n",
       " <gurobi.Var lmbd_n_c_gl[0,24.0,240000.0] (value 1.0)>,\n",
       " <gurobi.Var lmbd_n_c_gl[0,24.0,300000.0] (value 0.0)>,\n",
       " <gurobi.Var lmbd_n_c_gl[0,38.0,0.0] (value 0.0)>,\n",
       " <gurobi.Var lmbd_n_c_gl[0,38.0,60000.0] (value 0.0)>,\n",
       " <gurobi.Var lmbd_n_c_gl[0,38.0,120000.0] (value 0.0)>,\n",
       " <gurobi.Var lmbd_n_c_gl[0,38.0,180000.0] (value 0.0)>,\n",
       " <gurobi.Var lmbd_n_c_gl[0,38.0,240000.0] (value 0.0)>,\n",
       " <gurobi.Var lmbd_n_c_gl[0,38.0,300000.0] (value 0.0)>,\n",
       " <gurobi.Var lmbd_n_c_gl[0,52.0,0.0] (value 0.0)>,\n",
       " <gurobi.Var lmbd_n_c_gl[0,52.0,60000.0] (value 0.0)>,\n",
       " <gurobi.Var lmbd_n_c_gl[0,52.0,120000.0] (value 0.0)>,\n",
       " <gurobi.Var lmbd_n_c_gl[0,52.0,180000.0] (value 0.0)>,\n",
       " <gurobi.Var lmbd_n_c_gl[0,52.0,240000.0] (value 0.0)>,\n",
       " <gurobi.Var lmbd_n_c_gl[0,52.0,300000.0] (value 0.0)>,\n",
       " <gurobi.Var lmbd_n_c_gl[0,66.0,0.0] (value 0.0)>,\n",
       " <gurobi.Var lmbd_n_c_gl[0,66.0,60000.0] (value 0.0)>,\n",
       " <gurobi.Var lmbd_n_c_gl[0,66.0,120000.0] (value 0.0)>,\n",
       " <gurobi.Var lmbd_n_c_gl[0,66.0,180000.0] (value 0.0)>,\n",
       " <gurobi.Var lmbd_n_c_gl[0,66.0,240000.0] (value 0.0)>,\n",
       " <gurobi.Var lmbd_n_c_gl[0,66.0,300000.0] (value 0.0)>,\n",
       " <gurobi.Var lmbd_n_c_gl[0,80.0,0.0] (value 0.0)>,\n",
       " <gurobi.Var lmbd_n_c_gl[0,80.0,60000.0] (value 0.0)>,\n",
       " <gurobi.Var lmbd_n_c_gl[0,80.0,120000.0] (value 0.0)>,\n",
       " <gurobi.Var lmbd_n_c_gl[0,80.0,180000.0] (value 0.0)>,\n",
       " <gurobi.Var lmbd_n_c_gl[0,80.0,240000.0] (value 0.0)>,\n",
       " <gurobi.Var lmbd_n_c_gl[0,80.0,300000.0] (value 0.0)>,\n",
       " <gurobi.Var eta_n_c[0,10.0] (value 0.0)>,\n",
       " <gurobi.Var eta_n_c[0,24.0] (value 1.0)>,\n",
       " <gurobi.Var eta_n_c[0,38.0] (value 0.0)>,\n",
       " <gurobi.Var eta_n_c[0,52.0] (value 0.0)>,\n",
       " <gurobi.Var eta_n_c[0,66.0] (value 0.0)>,\n",
       " <gurobi.Var eta_n_c[0,80.0] (value 0.0)>,\n",
       " <gurobi.Var eta_n_gl[0,0.0] (value 0.0)>,\n",
       " <gurobi.Var eta_n_gl[0,60000.0] (value 0.0)>,\n",
       " <gurobi.Var eta_n_gl[0,120000.0] (value 0.0)>,\n",
       " <gurobi.Var eta_n_gl[0,180000.0] (value 0.0)>,\n",
       " <gurobi.Var eta_n_gl[0,240000.0] (value 1.0)>,\n",
       " <gurobi.Var eta_n_gl[0,300000.0] (value 0.0)>]"
      ]
     },
     "execution_count": 22,
     "metadata": {},
     "output_type": "execute_result"
    }
   ],
   "source": [
    "fixed_model = fix_c_gl(get_model([well]), [24.0, 38.0], [180000., 240000.])\n",
    "fixed_model.optimize()\n",
    "fixed_model.getVars()"
   ]
  }
 ],
 "metadata": {
  "kernelspec": {
   "display_name": "gnns",
   "language": "python",
   "name": "python3"
  },
  "language_info": {
   "codemirror_mode": {
    "name": "ipython",
    "version": 3
   },
   "file_extension": ".py",
   "mimetype": "text/x-python",
   "name": "python",
   "nbconvert_exporter": "python",
   "pygments_lexer": "ipython3",
   "version": "3.10.9"
  },
  "orig_nbformat": 4
 },
 "nbformat": 4,
 "nbformat_minor": 2
}

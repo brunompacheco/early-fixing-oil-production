{
 "cells": [
  {
   "cell_type": "code",
   "execution_count": 1,
   "metadata": {},
   "outputs": [],
   "source": [
    "%load_ext autoreload\n",
    "%autoreload 2\n",
    "\n",
    "import sys\n",
    "sys.path.append('..')  # enable import from src/"
   ]
  },
  {
   "cell_type": "code",
   "execution_count": 39,
   "metadata": {},
   "outputs": [],
   "source": [
    "from src.model import get_model, fix_c_gl"
   ]
  },
  {
   "cell_type": "code",
   "execution_count": 49,
   "metadata": {},
   "outputs": [
    {
     "name": "stdout",
     "output_type": "stream",
     "text": [
      "Set parameter IntFeasTol to value 1e-09\n",
      "Gurobi Optimizer version 10.0.1 build v10.0.1rc0 (linux64)\n",
      "\n",
      "CPU model: 12th Gen Intel(R) Core(TM) i7-12700, instruction set [SSE2|AVX|AVX2]\n",
      "Thread count: 20 physical cores, 20 logical processors, using up to 20 threads\n",
      "\n",
      "Optimize a model with 134 rows, 130 columns and 659 nonzeros\n",
      "Model fingerprint: 0x84d1f932\n",
      "Model has 2 SOS constraints\n",
      "Variable types: 130 continuous, 0 integer (0 binary)\n",
      "Coefficient statistics:\n",
      "  Matrix range     [4e-01, 3e+05]\n",
      "  Objective range  [1e+00, 1e+00]\n",
      "  Bounds range     [0e+00, 0e+00]\n",
      "  RHS range        [1e+00, 1e+09]\n",
      "Presolve added 0 rows and 7 columns\n",
      "Presolve removed 77 rows and 0 columns\n",
      "Presolve time: 0.00s\n",
      "Presolved: 57 rows, 137 columns, 421 nonzeros\n",
      "Variable types: 121 continuous, 16 integer (16 binary)\n",
      "Found heuristic solution: objective 1053.0010530\n",
      "\n",
      "Explored 0 nodes (0 simplex iterations) in 0.01 seconds (0.00 work units)\n",
      "Thread count was 20 (of 20 available processors)\n",
      "\n",
      "Solution count 1: 1053 \n",
      "\n",
      "Optimal solution found (tolerance 1.00e-04)\n",
      "Best objective 1.053001053001e+03, best bound 1.053001053001e+03, gap 0.0000%\n"
     ]
    },
    {
     "data": {
      "text/plain": [
       "[<gurobi.Var ckp_n[JUB-58] (value 130.45264835200942)>,\n",
       " <gurobi.Var q_oil_n[JUB-58] (value 1053.001053001053)>,\n",
       " <gurobi.Var q_water_n[JUB-58] (value 613.6672803339471)>,\n",
       " <gurobi.Var q_gas_n[JUB-58] (value 300000.0)>,\n",
       " <gurobi.Var q_gl_n[JUB-58] (value 258661.70651950536)>,\n",
       " <gurobi.Var q_liq_n[JUB-58] (value 1666.6683333350002)>,\n",
       " <gurobi.Var q_liq_m[0] (value 1666.6683333350002)>,\n",
       " <gurobi.Var q_oil_m[0] (value 1053.001053001053)>,\n",
       " <gurobi.Var q_water_m[0] (value 613.6672803339471)>,\n",
       " <gurobi.Var q_gas_m[0] (value 300000.0)>,\n",
       " <gurobi.Var lmbd_n_c_gl[JUB-58,50.0,100.0] (value 0.0)>,\n",
       " <gurobi.Var lmbd_n_c_gl[JUB-58,50.0,33422.22] (value 0.0)>,\n",
       " <gurobi.Var lmbd_n_c_gl[JUB-58,50.0,66744.44] (value 0.0)>,\n",
       " <gurobi.Var lmbd_n_c_gl[JUB-58,50.0,100066.67] (value 0.0)>,\n",
       " <gurobi.Var lmbd_n_c_gl[JUB-58,50.0,133388.89] (value 0.0)>,\n",
       " <gurobi.Var lmbd_n_c_gl[JUB-58,50.0,166711.11] (value 0.0)>,\n",
       " <gurobi.Var lmbd_n_c_gl[JUB-58,50.0,200033.33] (value 0.0)>,\n",
       " <gurobi.Var lmbd_n_c_gl[JUB-58,50.0,233355.56] (value 0.0)>,\n",
       " <gurobi.Var lmbd_n_c_gl[JUB-58,50.0,266677.78] (value 0.0)>,\n",
       " <gurobi.Var lmbd_n_c_gl[JUB-58,50.0,300000.0] (value 0.0)>,\n",
       " <gurobi.Var lmbd_n_c_gl[JUB-58,61.11,100.0] (value 0.0)>,\n",
       " <gurobi.Var lmbd_n_c_gl[JUB-58,61.11,33422.22] (value 0.0)>,\n",
       " <gurobi.Var lmbd_n_c_gl[JUB-58,61.11,66744.44] (value 0.0)>,\n",
       " <gurobi.Var lmbd_n_c_gl[JUB-58,61.11,100066.67] (value 0.0)>,\n",
       " <gurobi.Var lmbd_n_c_gl[JUB-58,61.11,133388.89] (value 0.0)>,\n",
       " <gurobi.Var lmbd_n_c_gl[JUB-58,61.11,166711.11] (value 0.0)>,\n",
       " <gurobi.Var lmbd_n_c_gl[JUB-58,61.11,200033.33] (value 0.0)>,\n",
       " <gurobi.Var lmbd_n_c_gl[JUB-58,61.11,233355.56] (value 0.0)>,\n",
       " <gurobi.Var lmbd_n_c_gl[JUB-58,61.11,266677.78] (value 0.0)>,\n",
       " <gurobi.Var lmbd_n_c_gl[JUB-58,61.11,300000.0] (value 0.0)>,\n",
       " <gurobi.Var lmbd_n_c_gl[JUB-58,72.22,100.0] (value 0.0)>,\n",
       " <gurobi.Var lmbd_n_c_gl[JUB-58,72.22,33422.22] (value 0.0)>,\n",
       " <gurobi.Var lmbd_n_c_gl[JUB-58,72.22,66744.44] (value 0.0)>,\n",
       " <gurobi.Var lmbd_n_c_gl[JUB-58,72.22,100066.67] (value 0.0)>,\n",
       " <gurobi.Var lmbd_n_c_gl[JUB-58,72.22,133388.89] (value 0.0)>,\n",
       " <gurobi.Var lmbd_n_c_gl[JUB-58,72.22,166711.11] (value 0.0)>,\n",
       " <gurobi.Var lmbd_n_c_gl[JUB-58,72.22,200033.33] (value 0.0)>,\n",
       " <gurobi.Var lmbd_n_c_gl[JUB-58,72.22,233355.56] (value 0.0)>,\n",
       " <gurobi.Var lmbd_n_c_gl[JUB-58,72.22,266677.78] (value 0.0)>,\n",
       " <gurobi.Var lmbd_n_c_gl[JUB-58,72.22,300000.0] (value 0.0)>,\n",
       " <gurobi.Var lmbd_n_c_gl[JUB-58,83.33,100.0] (value 0.0)>,\n",
       " <gurobi.Var lmbd_n_c_gl[JUB-58,83.33,33422.22] (value 0.0)>,\n",
       " <gurobi.Var lmbd_n_c_gl[JUB-58,83.33,66744.44] (value 0.0)>,\n",
       " <gurobi.Var lmbd_n_c_gl[JUB-58,83.33,100066.67] (value 0.0)>,\n",
       " <gurobi.Var lmbd_n_c_gl[JUB-58,83.33,133388.89] (value 0.0)>,\n",
       " <gurobi.Var lmbd_n_c_gl[JUB-58,83.33,166711.11] (value 0.0)>,\n",
       " <gurobi.Var lmbd_n_c_gl[JUB-58,83.33,200033.33] (value 0.0)>,\n",
       " <gurobi.Var lmbd_n_c_gl[JUB-58,83.33,233355.56] (value 0.0)>,\n",
       " <gurobi.Var lmbd_n_c_gl[JUB-58,83.33,266677.78] (value 0.0)>,\n",
       " <gurobi.Var lmbd_n_c_gl[JUB-58,83.33,300000.0] (value 0.0)>,\n",
       " <gurobi.Var lmbd_n_c_gl[JUB-58,94.44,100.0] (value 0.0)>,\n",
       " <gurobi.Var lmbd_n_c_gl[JUB-58,94.44,33422.22] (value 0.0)>,\n",
       " <gurobi.Var lmbd_n_c_gl[JUB-58,94.44,66744.44] (value 0.0)>,\n",
       " <gurobi.Var lmbd_n_c_gl[JUB-58,94.44,100066.67] (value 0.0)>,\n",
       " <gurobi.Var lmbd_n_c_gl[JUB-58,94.44,133388.89] (value 0.0)>,\n",
       " <gurobi.Var lmbd_n_c_gl[JUB-58,94.44,166711.11] (value 0.0)>,\n",
       " <gurobi.Var lmbd_n_c_gl[JUB-58,94.44,200033.33] (value 0.0)>,\n",
       " <gurobi.Var lmbd_n_c_gl[JUB-58,94.44,233355.56] (value 0.0)>,\n",
       " <gurobi.Var lmbd_n_c_gl[JUB-58,94.44,266677.78] (value 0.0)>,\n",
       " <gurobi.Var lmbd_n_c_gl[JUB-58,94.44,300000.0] (value 0.0)>,\n",
       " <gurobi.Var lmbd_n_c_gl[JUB-58,105.56,100.0] (value 0.0)>,\n",
       " <gurobi.Var lmbd_n_c_gl[JUB-58,105.56,33422.22] (value 0.0)>,\n",
       " <gurobi.Var lmbd_n_c_gl[JUB-58,105.56,66744.44] (value 0.0)>,\n",
       " <gurobi.Var lmbd_n_c_gl[JUB-58,105.56,100066.67] (value 0.0)>,\n",
       " <gurobi.Var lmbd_n_c_gl[JUB-58,105.56,133388.89] (value 0.0)>,\n",
       " <gurobi.Var lmbd_n_c_gl[JUB-58,105.56,166711.11] (value 0.0)>,\n",
       " <gurobi.Var lmbd_n_c_gl[JUB-58,105.56,200033.33] (value 0.0)>,\n",
       " <gurobi.Var lmbd_n_c_gl[JUB-58,105.56,233355.56] (value 0.0)>,\n",
       " <gurobi.Var lmbd_n_c_gl[JUB-58,105.56,266677.78] (value 0.0)>,\n",
       " <gurobi.Var lmbd_n_c_gl[JUB-58,105.56,300000.0] (value 0.0)>,\n",
       " <gurobi.Var lmbd_n_c_gl[JUB-58,116.67,100.0] (value 0.0)>,\n",
       " <gurobi.Var lmbd_n_c_gl[JUB-58,116.67,33422.22] (value 0.0)>,\n",
       " <gurobi.Var lmbd_n_c_gl[JUB-58,116.67,66744.44] (value 0.0)>,\n",
       " <gurobi.Var lmbd_n_c_gl[JUB-58,116.67,100066.67] (value 0.0)>,\n",
       " <gurobi.Var lmbd_n_c_gl[JUB-58,116.67,133388.89] (value 0.0)>,\n",
       " <gurobi.Var lmbd_n_c_gl[JUB-58,116.67,166711.11] (value 0.0)>,\n",
       " <gurobi.Var lmbd_n_c_gl[JUB-58,116.67,200033.33] (value 0.0)>,\n",
       " <gurobi.Var lmbd_n_c_gl[JUB-58,116.67,233355.56] (value 0.0)>,\n",
       " <gurobi.Var lmbd_n_c_gl[JUB-58,116.67,266677.78] (value 0.0)>,\n",
       " <gurobi.Var lmbd_n_c_gl[JUB-58,116.67,300000.0] (value 0.0)>,\n",
       " <gurobi.Var lmbd_n_c_gl[JUB-58,127.78,100.0] (value 0.0)>,\n",
       " <gurobi.Var lmbd_n_c_gl[JUB-58,127.78,33422.22] (value 0.0)>,\n",
       " <gurobi.Var lmbd_n_c_gl[JUB-58,127.78,66744.44] (value 0.0)>,\n",
       " <gurobi.Var lmbd_n_c_gl[JUB-58,127.78,100066.67] (value 0.0)>,\n",
       " <gurobi.Var lmbd_n_c_gl[JUB-58,127.78,133388.89] (value 0.0)>,\n",
       " <gurobi.Var lmbd_n_c_gl[JUB-58,127.78,166711.11] (value 0.0)>,\n",
       " <gurobi.Var lmbd_n_c_gl[JUB-58,127.78,200033.33] (value 0.0)>,\n",
       " <gurobi.Var lmbd_n_c_gl[JUB-58,127.78,233355.56] (value 0.0)>,\n",
       " <gurobi.Var lmbd_n_c_gl[JUB-58,127.78,266677.78] (value 0.7594375920783593)>,\n",
       " <gurobi.Var lmbd_n_c_gl[JUB-58,127.78,300000.0] (value 0.0)>,\n",
       " <gurobi.Var lmbd_n_c_gl[JUB-58,138.89,100.0] (value 0.0)>,\n",
       " <gurobi.Var lmbd_n_c_gl[JUB-58,138.89,33422.22] (value 0.0)>,\n",
       " <gurobi.Var lmbd_n_c_gl[JUB-58,138.89,66744.44] (value 0.0)>,\n",
       " <gurobi.Var lmbd_n_c_gl[JUB-58,138.89,100066.67] (value 0.0)>,\n",
       " <gurobi.Var lmbd_n_c_gl[JUB-58,138.89,133388.89] (value 0.0)>,\n",
       " <gurobi.Var lmbd_n_c_gl[JUB-58,138.89,166711.11] (value 0.0)>,\n",
       " <gurobi.Var lmbd_n_c_gl[JUB-58,138.89,200033.33] (value 0.0)>,\n",
       " <gurobi.Var lmbd_n_c_gl[JUB-58,138.89,233355.56] (value 0.24056240792164071)>,\n",
       " <gurobi.Var lmbd_n_c_gl[JUB-58,138.89,266677.78] (value 0.0)>,\n",
       " <gurobi.Var lmbd_n_c_gl[JUB-58,138.89,300000.0] (value 0.0)>,\n",
       " <gurobi.Var lmbd_n_c_gl[JUB-58,150.0,100.0] (value 0.0)>,\n",
       " <gurobi.Var lmbd_n_c_gl[JUB-58,150.0,33422.22] (value 0.0)>,\n",
       " <gurobi.Var lmbd_n_c_gl[JUB-58,150.0,66744.44] (value 0.0)>,\n",
       " <gurobi.Var lmbd_n_c_gl[JUB-58,150.0,100066.67] (value 0.0)>,\n",
       " <gurobi.Var lmbd_n_c_gl[JUB-58,150.0,133388.89] (value 0.0)>,\n",
       " <gurobi.Var lmbd_n_c_gl[JUB-58,150.0,166711.11] (value 0.0)>,\n",
       " <gurobi.Var lmbd_n_c_gl[JUB-58,150.0,200033.33] (value 0.0)>,\n",
       " <gurobi.Var lmbd_n_c_gl[JUB-58,150.0,233355.56] (value 0.0)>,\n",
       " <gurobi.Var lmbd_n_c_gl[JUB-58,150.0,266677.78] (value 0.0)>,\n",
       " <gurobi.Var lmbd_n_c_gl[JUB-58,150.0,300000.0] (value 0.0)>,\n",
       " <gurobi.Var eta_n_c[JUB-58,50.0] (value 0.0)>,\n",
       " <gurobi.Var eta_n_c[JUB-58,61.11] (value 0.0)>,\n",
       " <gurobi.Var eta_n_c[JUB-58,72.22] (value 0.0)>,\n",
       " <gurobi.Var eta_n_c[JUB-58,83.33] (value 0.0)>,\n",
       " <gurobi.Var eta_n_c[JUB-58,94.44] (value 0.0)>,\n",
       " <gurobi.Var eta_n_c[JUB-58,105.56] (value 0.0)>,\n",
       " <gurobi.Var eta_n_c[JUB-58,116.67] (value 0.0)>,\n",
       " <gurobi.Var eta_n_c[JUB-58,127.78] (value 0.7594375920783593)>,\n",
       " <gurobi.Var eta_n_c[JUB-58,138.89] (value 0.24056240792164071)>,\n",
       " <gurobi.Var eta_n_c[JUB-58,150.0] (value 0.0)>,\n",
       " <gurobi.Var eta_n_gl[JUB-58,100.0] (value 0.0)>,\n",
       " <gurobi.Var eta_n_gl[JUB-58,33422.22] (value 0.0)>,\n",
       " <gurobi.Var eta_n_gl[JUB-58,66744.44] (value 0.0)>,\n",
       " <gurobi.Var eta_n_gl[JUB-58,100066.67] (value 0.0)>,\n",
       " <gurobi.Var eta_n_gl[JUB-58,133388.89] (value 0.0)>,\n",
       " <gurobi.Var eta_n_gl[JUB-58,166711.11] (value 0.0)>,\n",
       " <gurobi.Var eta_n_gl[JUB-58,200033.33] (value 0.0)>,\n",
       " <gurobi.Var eta_n_gl[JUB-58,233355.56] (value 0.24056240792164074)>,\n",
       " <gurobi.Var eta_n_gl[JUB-58,266677.78] (value 0.7594375920783593)>,\n",
       " <gurobi.Var eta_n_gl[JUB-58,300000.0] (value 0.0)>]"
      ]
     },
     "execution_count": 49,
     "metadata": {},
     "output_type": "execute_result"
    }
   ],
   "source": [
    "model = get_model(['JUB-58'])\n",
    "\n",
    "model.optimize()\n",
    "\n",
    "model.getVars()"
   ]
  },
  {
   "cell_type": "code",
   "execution_count": 50,
   "metadata": {},
   "outputs": [
    {
     "name": "stdout",
     "output_type": "stream",
     "text": [
      "Set parameter IntFeasTol to value 1e-09\n",
      "Gurobi Optimizer version 10.0.1 build v10.0.1rc0 (linux64)\n",
      "\n",
      "CPU model: 12th Gen Intel(R) Core(TM) i7-12700, instruction set [SSE2|AVX|AVX2]\n",
      "Thread count: 20 physical cores, 20 logical processors, using up to 20 threads\n",
      "\n",
      "Optimize a model with 134 rows, 130 columns and 659 nonzeros\n",
      "Model fingerprint: 0xbe315d52\n",
      "Model has 2 SOS constraints\n",
      "Variable types: 130 continuous, 0 integer (0 binary)\n",
      "Coefficient statistics:\n",
      "  Matrix range     [4e-01, 3e+05]\n",
      "  Objective range  [1e+00, 1e+00]\n",
      "  Bounds range     [0e+00, 0e+00]\n",
      "  RHS range        [1e+00, 1e+09]\n",
      "Presolve removed 130 rows and 125 columns\n",
      "Presolve time: 0.00s\n",
      "Presolved: 4 rows, 5 columns, 14 nonzeros\n",
      "Variable types: 5 continuous, 0 integer (0 binary)\n",
      "\n",
      "Root relaxation: objective 1.053001e+03, 3 iterations, 0.00 seconds (0.00 work units)\n",
      "\n",
      "    Nodes    |    Current Node    |     Objective Bounds      |     Work\n",
      " Expl Unexpl |  Obj  Depth IntInf | Incumbent    BestBd   Gap | It/Node Time\n",
      "\n",
      "*    0     0               0    1053.0010530 1053.00105  0.00%     -    0s\n",
      "\n",
      "Explored 1 nodes (3 simplex iterations) in 0.01 seconds (0.00 work units)\n",
      "Thread count was 20 (of 20 available processors)\n",
      "\n",
      "Solution count 1: 1053 \n",
      "\n",
      "Optimal solution found (tolerance 1.00e-04)\n",
      "Best objective 1.053001053001e+03, best bound 1.053001053001e+03, gap 0.0000%\n"
     ]
    },
    {
     "data": {
      "text/plain": [
       "[<gurobi.Var ckp_n[JUB-58] (value 129.73398480171892)>,\n",
       " <gurobi.Var q_oil_n[JUB-58] (value 1053.001053001053)>,\n",
       " <gurobi.Var q_water_n[JUB-58] (value 613.6672803339471)>,\n",
       " <gurobi.Var q_gas_n[JUB-58] (value 300000.0)>,\n",
       " <gurobi.Var q_gl_n[JUB-58] (value 233355.56)>,\n",
       " <gurobi.Var q_liq_n[JUB-58] (value 1666.6683333350002)>,\n",
       " <gurobi.Var q_liq_m[0] (value 1666.6683333350002)>,\n",
       " <gurobi.Var q_oil_m[0] (value 1053.001053001053)>,\n",
       " <gurobi.Var q_water_m[0] (value 613.6672803339471)>,\n",
       " <gurobi.Var q_gas_m[0] (value 300000.0)>,\n",
       " <gurobi.Var lmbd_n_c_gl[JUB-58,50.0,100.0] (value 0.0)>,\n",
       " <gurobi.Var lmbd_n_c_gl[JUB-58,50.0,33422.22] (value 0.0)>,\n",
       " <gurobi.Var lmbd_n_c_gl[JUB-58,50.0,66744.44] (value 0.0)>,\n",
       " <gurobi.Var lmbd_n_c_gl[JUB-58,50.0,100066.67] (value 0.0)>,\n",
       " <gurobi.Var lmbd_n_c_gl[JUB-58,50.0,133388.89] (value 0.0)>,\n",
       " <gurobi.Var lmbd_n_c_gl[JUB-58,50.0,166711.11] (value 0.0)>,\n",
       " <gurobi.Var lmbd_n_c_gl[JUB-58,50.0,200033.33] (value 0.0)>,\n",
       " <gurobi.Var lmbd_n_c_gl[JUB-58,50.0,233355.56] (value 0.0)>,\n",
       " <gurobi.Var lmbd_n_c_gl[JUB-58,50.0,266677.78] (value 0.0)>,\n",
       " <gurobi.Var lmbd_n_c_gl[JUB-58,50.0,300000.0] (value 0.0)>,\n",
       " <gurobi.Var lmbd_n_c_gl[JUB-58,61.11,100.0] (value 0.0)>,\n",
       " <gurobi.Var lmbd_n_c_gl[JUB-58,61.11,33422.22] (value 0.0)>,\n",
       " <gurobi.Var lmbd_n_c_gl[JUB-58,61.11,66744.44] (value 0.0)>,\n",
       " <gurobi.Var lmbd_n_c_gl[JUB-58,61.11,100066.67] (value 0.0)>,\n",
       " <gurobi.Var lmbd_n_c_gl[JUB-58,61.11,133388.89] (value 0.0)>,\n",
       " <gurobi.Var lmbd_n_c_gl[JUB-58,61.11,166711.11] (value 0.0)>,\n",
       " <gurobi.Var lmbd_n_c_gl[JUB-58,61.11,200033.33] (value 0.0)>,\n",
       " <gurobi.Var lmbd_n_c_gl[JUB-58,61.11,233355.56] (value 0.0)>,\n",
       " <gurobi.Var lmbd_n_c_gl[JUB-58,61.11,266677.78] (value 0.0)>,\n",
       " <gurobi.Var lmbd_n_c_gl[JUB-58,61.11,300000.0] (value 0.0)>,\n",
       " <gurobi.Var lmbd_n_c_gl[JUB-58,72.22,100.0] (value 0.0)>,\n",
       " <gurobi.Var lmbd_n_c_gl[JUB-58,72.22,33422.22] (value 0.0)>,\n",
       " <gurobi.Var lmbd_n_c_gl[JUB-58,72.22,66744.44] (value 0.0)>,\n",
       " <gurobi.Var lmbd_n_c_gl[JUB-58,72.22,100066.67] (value 0.0)>,\n",
       " <gurobi.Var lmbd_n_c_gl[JUB-58,72.22,133388.89] (value 0.0)>,\n",
       " <gurobi.Var lmbd_n_c_gl[JUB-58,72.22,166711.11] (value 0.0)>,\n",
       " <gurobi.Var lmbd_n_c_gl[JUB-58,72.22,200033.33] (value 0.0)>,\n",
       " <gurobi.Var lmbd_n_c_gl[JUB-58,72.22,233355.56] (value 0.0)>,\n",
       " <gurobi.Var lmbd_n_c_gl[JUB-58,72.22,266677.78] (value 0.0)>,\n",
       " <gurobi.Var lmbd_n_c_gl[JUB-58,72.22,300000.0] (value 0.0)>,\n",
       " <gurobi.Var lmbd_n_c_gl[JUB-58,83.33,100.0] (value 0.0)>,\n",
       " <gurobi.Var lmbd_n_c_gl[JUB-58,83.33,33422.22] (value 0.0)>,\n",
       " <gurobi.Var lmbd_n_c_gl[JUB-58,83.33,66744.44] (value 0.0)>,\n",
       " <gurobi.Var lmbd_n_c_gl[JUB-58,83.33,100066.67] (value 0.0)>,\n",
       " <gurobi.Var lmbd_n_c_gl[JUB-58,83.33,133388.89] (value 0.0)>,\n",
       " <gurobi.Var lmbd_n_c_gl[JUB-58,83.33,166711.11] (value 0.0)>,\n",
       " <gurobi.Var lmbd_n_c_gl[JUB-58,83.33,200033.33] (value 0.0)>,\n",
       " <gurobi.Var lmbd_n_c_gl[JUB-58,83.33,233355.56] (value 0.0)>,\n",
       " <gurobi.Var lmbd_n_c_gl[JUB-58,83.33,266677.78] (value 0.0)>,\n",
       " <gurobi.Var lmbd_n_c_gl[JUB-58,83.33,300000.0] (value 0.0)>,\n",
       " <gurobi.Var lmbd_n_c_gl[JUB-58,94.44,100.0] (value 0.0)>,\n",
       " <gurobi.Var lmbd_n_c_gl[JUB-58,94.44,33422.22] (value 0.0)>,\n",
       " <gurobi.Var lmbd_n_c_gl[JUB-58,94.44,66744.44] (value 0.0)>,\n",
       " <gurobi.Var lmbd_n_c_gl[JUB-58,94.44,100066.67] (value 0.0)>,\n",
       " <gurobi.Var lmbd_n_c_gl[JUB-58,94.44,133388.89] (value 0.0)>,\n",
       " <gurobi.Var lmbd_n_c_gl[JUB-58,94.44,166711.11] (value 0.0)>,\n",
       " <gurobi.Var lmbd_n_c_gl[JUB-58,94.44,200033.33] (value 0.0)>,\n",
       " <gurobi.Var lmbd_n_c_gl[JUB-58,94.44,233355.56] (value 0.0)>,\n",
       " <gurobi.Var lmbd_n_c_gl[JUB-58,94.44,266677.78] (value 0.0)>,\n",
       " <gurobi.Var lmbd_n_c_gl[JUB-58,94.44,300000.0] (value 0.0)>,\n",
       " <gurobi.Var lmbd_n_c_gl[JUB-58,105.56,100.0] (value 0.0)>,\n",
       " <gurobi.Var lmbd_n_c_gl[JUB-58,105.56,33422.22] (value 0.0)>,\n",
       " <gurobi.Var lmbd_n_c_gl[JUB-58,105.56,66744.44] (value 0.0)>,\n",
       " <gurobi.Var lmbd_n_c_gl[JUB-58,105.56,100066.67] (value 0.0)>,\n",
       " <gurobi.Var lmbd_n_c_gl[JUB-58,105.56,133388.89] (value 0.0)>,\n",
       " <gurobi.Var lmbd_n_c_gl[JUB-58,105.56,166711.11] (value 0.0)>,\n",
       " <gurobi.Var lmbd_n_c_gl[JUB-58,105.56,200033.33] (value 0.0)>,\n",
       " <gurobi.Var lmbd_n_c_gl[JUB-58,105.56,233355.56] (value 0.0)>,\n",
       " <gurobi.Var lmbd_n_c_gl[JUB-58,105.56,266677.78] (value 0.0)>,\n",
       " <gurobi.Var lmbd_n_c_gl[JUB-58,105.56,300000.0] (value 0.0)>,\n",
       " <gurobi.Var lmbd_n_c_gl[JUB-58,116.67,100.0] (value 0.0)>,\n",
       " <gurobi.Var lmbd_n_c_gl[JUB-58,116.67,33422.22] (value 0.0)>,\n",
       " <gurobi.Var lmbd_n_c_gl[JUB-58,116.67,66744.44] (value 0.0)>,\n",
       " <gurobi.Var lmbd_n_c_gl[JUB-58,116.67,100066.67] (value 0.0)>,\n",
       " <gurobi.Var lmbd_n_c_gl[JUB-58,116.67,133388.89] (value 0.0)>,\n",
       " <gurobi.Var lmbd_n_c_gl[JUB-58,116.67,166711.11] (value 0.0)>,\n",
       " <gurobi.Var lmbd_n_c_gl[JUB-58,116.67,200033.33] (value 0.0)>,\n",
       " <gurobi.Var lmbd_n_c_gl[JUB-58,116.67,233355.56] (value 0.0)>,\n",
       " <gurobi.Var lmbd_n_c_gl[JUB-58,116.67,266677.78] (value 0.0)>,\n",
       " <gurobi.Var lmbd_n_c_gl[JUB-58,116.67,300000.0] (value 0.0)>,\n",
       " <gurobi.Var lmbd_n_c_gl[JUB-58,127.78,100.0] (value 0.0)>,\n",
       " <gurobi.Var lmbd_n_c_gl[JUB-58,127.78,33422.22] (value 0.0)>,\n",
       " <gurobi.Var lmbd_n_c_gl[JUB-58,127.78,66744.44] (value 0.0)>,\n",
       " <gurobi.Var lmbd_n_c_gl[JUB-58,127.78,100066.67] (value 0.0)>,\n",
       " <gurobi.Var lmbd_n_c_gl[JUB-58,127.78,133388.89] (value 0.0)>,\n",
       " <gurobi.Var lmbd_n_c_gl[JUB-58,127.78,166711.11] (value 0.0)>,\n",
       " <gurobi.Var lmbd_n_c_gl[JUB-58,127.78,200033.33] (value 0.0)>,\n",
       " <gurobi.Var lmbd_n_c_gl[JUB-58,127.78,233355.56] (value 0.8241237802233209)>,\n",
       " <gurobi.Var lmbd_n_c_gl[JUB-58,127.78,266677.78] (value 0.0)>,\n",
       " <gurobi.Var lmbd_n_c_gl[JUB-58,127.78,300000.0] (value 0.0)>,\n",
       " <gurobi.Var lmbd_n_c_gl[JUB-58,138.89,100.0] (value 0.0)>,\n",
       " <gurobi.Var lmbd_n_c_gl[JUB-58,138.89,33422.22] (value 0.0)>,\n",
       " <gurobi.Var lmbd_n_c_gl[JUB-58,138.89,66744.44] (value 0.0)>,\n",
       " <gurobi.Var lmbd_n_c_gl[JUB-58,138.89,100066.67] (value 0.0)>,\n",
       " <gurobi.Var lmbd_n_c_gl[JUB-58,138.89,133388.89] (value 0.0)>,\n",
       " <gurobi.Var lmbd_n_c_gl[JUB-58,138.89,166711.11] (value 0.0)>,\n",
       " <gurobi.Var lmbd_n_c_gl[JUB-58,138.89,200033.33] (value 0.0)>,\n",
       " <gurobi.Var lmbd_n_c_gl[JUB-58,138.89,233355.56] (value 0.1758762197766791)>,\n",
       " <gurobi.Var lmbd_n_c_gl[JUB-58,138.89,266677.78] (value 0.0)>,\n",
       " <gurobi.Var lmbd_n_c_gl[JUB-58,138.89,300000.0] (value 0.0)>,\n",
       " <gurobi.Var lmbd_n_c_gl[JUB-58,150.0,100.0] (value 0.0)>,\n",
       " <gurobi.Var lmbd_n_c_gl[JUB-58,150.0,33422.22] (value 0.0)>,\n",
       " <gurobi.Var lmbd_n_c_gl[JUB-58,150.0,66744.44] (value 0.0)>,\n",
       " <gurobi.Var lmbd_n_c_gl[JUB-58,150.0,100066.67] (value 0.0)>,\n",
       " <gurobi.Var lmbd_n_c_gl[JUB-58,150.0,133388.89] (value 0.0)>,\n",
       " <gurobi.Var lmbd_n_c_gl[JUB-58,150.0,166711.11] (value 0.0)>,\n",
       " <gurobi.Var lmbd_n_c_gl[JUB-58,150.0,200033.33] (value 0.0)>,\n",
       " <gurobi.Var lmbd_n_c_gl[JUB-58,150.0,233355.56] (value 0.0)>,\n",
       " <gurobi.Var lmbd_n_c_gl[JUB-58,150.0,266677.78] (value 0.0)>,\n",
       " <gurobi.Var lmbd_n_c_gl[JUB-58,150.0,300000.0] (value 0.0)>,\n",
       " <gurobi.Var eta_n_c[JUB-58,50.0] (value 0.0)>,\n",
       " <gurobi.Var eta_n_c[JUB-58,61.11] (value 0.0)>,\n",
       " <gurobi.Var eta_n_c[JUB-58,72.22] (value 0.0)>,\n",
       " <gurobi.Var eta_n_c[JUB-58,83.33] (value 0.0)>,\n",
       " <gurobi.Var eta_n_c[JUB-58,94.44] (value 0.0)>,\n",
       " <gurobi.Var eta_n_c[JUB-58,105.56] (value 0.0)>,\n",
       " <gurobi.Var eta_n_c[JUB-58,116.67] (value 0.0)>,\n",
       " <gurobi.Var eta_n_c[JUB-58,127.78] (value 0.8241237802233209)>,\n",
       " <gurobi.Var eta_n_c[JUB-58,138.89] (value 0.1758762197766791)>,\n",
       " <gurobi.Var eta_n_c[JUB-58,150.0] (value 0.0)>,\n",
       " <gurobi.Var eta_n_gl[JUB-58,100.0] (value 0.0)>,\n",
       " <gurobi.Var eta_n_gl[JUB-58,33422.22] (value 0.0)>,\n",
       " <gurobi.Var eta_n_gl[JUB-58,66744.44] (value 0.0)>,\n",
       " <gurobi.Var eta_n_gl[JUB-58,100066.67] (value 0.0)>,\n",
       " <gurobi.Var eta_n_gl[JUB-58,133388.89] (value 0.0)>,\n",
       " <gurobi.Var eta_n_gl[JUB-58,166711.11] (value 0.0)>,\n",
       " <gurobi.Var eta_n_gl[JUB-58,200033.33] (value 0.0)>,\n",
       " <gurobi.Var eta_n_gl[JUB-58,233355.56] (value 1.0)>,\n",
       " <gurobi.Var eta_n_gl[JUB-58,266677.78] (value 0.0)>,\n",
       " <gurobi.Var eta_n_gl[JUB-58,300000.0] (value 0.0)>]"
      ]
     },
     "execution_count": 50,
     "metadata": {},
     "output_type": "execute_result"
    }
   ],
   "source": [
    "fixed_model = fix_c_gl(get_model(['JUB-58']), [127.78,138.89], [233355.56,266677.78])\n",
    "fixed_model.optimize()\n",
    "fixed_model.getVars()"
   ]
  },
  {
   "cell_type": "code",
   "execution_count": 43,
   "metadata": {},
   "outputs": [
    {
     "data": {
      "text/plain": [
       "inf"
      ]
     },
     "execution_count": 43,
     "metadata": {},
     "output_type": "execute_result"
    }
   ],
   "source": [
    "fixed_model.getVarByName('eta_n_gl[JUB-58,266677.78]').ub"
   ]
  },
  {
   "cell_type": "code",
   "execution_count": 14,
   "metadata": {},
   "outputs": [
    {
     "data": {
      "text/plain": [
       "<132x130 sparse matrix of type '<class 'numpy.float64'>'\n",
       "\twith 639 stored elements in Compressed Sparse Row format>"
      ]
     },
     "execution_count": 14,
     "metadata": {},
     "output_type": "execute_result"
    }
   ],
   "source": [
    "model.getA()"
   ]
  },
  {
   "cell_type": "code",
   "execution_count": 16,
   "metadata": {},
   "outputs": [
    {
     "data": {
      "text/plain": [
       "<32x130 sparse matrix of type '<class 'numpy.float64'>'\n",
       "\twith 539 stored elements in Compressed Sparse Row format>"
      ]
     },
     "execution_count": 16,
     "metadata": {},
     "output_type": "execute_result"
    }
   ],
   "source": [
    "model = get_model(['JUB-48'], avoid_infeasible=False)\n",
    "\n",
    "model.getA()"
   ]
  },
  {
   "cell_type": "code",
   "execution_count": 31,
   "metadata": {},
   "outputs": [
    {
     "data": {
      "text/plain": [
       "'eta_n_gl[JUB-55,300000.0]'"
      ]
     },
     "execution_count": 31,
     "metadata": {},
     "output_type": "execute_result"
    }
   ],
   "source": [
    "v = model.getVars()[-1]\n",
    "v.VarName"
   ]
  },
  {
   "cell_type": "code",
   "execution_count": 34,
   "metadata": {},
   "outputs": [
    {
     "data": {
      "text/plain": [
       "100.0"
      ]
     },
     "execution_count": 34,
     "metadata": {},
     "output_type": "execute_result"
    }
   ],
   "source": [
    "v.ub"
   ]
  },
  {
   "cell_type": "code",
   "execution_count": 35,
   "metadata": {},
   "outputs": [
    {
     "data": {
      "text/plain": [
       "<bound method Model.copy of <gurobi.Model MIP instance flow_splitting: 132 constrs, 130 vars, Parameter changes: IntFeasTol=1e-09, Username=(user-defined)>>"
      ]
     },
     "execution_count": 35,
     "metadata": {},
     "output_type": "execute_result"
    }
   ],
   "source": [
    "model.copy"
   ]
  }
 ],
 "metadata": {
  "kernelspec": {
   "display_name": "gnns",
   "language": "python",
   "name": "python3"
  },
  "language_info": {
   "codemirror_mode": {
    "name": "ipython",
    "version": 3
   },
   "file_extension": ".py",
   "mimetype": "text/x-python",
   "name": "python",
   "nbconvert_exporter": "python",
   "pygments_lexer": "ipython3",
   "version": "3.10.9"
  },
  "orig_nbformat": 4
 },
 "nbformat": 4,
 "nbformat_minor": 2
}

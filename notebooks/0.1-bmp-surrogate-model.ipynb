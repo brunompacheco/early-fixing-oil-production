{
 "cells": [
  {
   "cell_type": "code",
   "execution_count": 1,
   "metadata": {},
   "outputs": [],
   "source": [
    "%load_ext autoreload\n",
    "%autoreload 2\n",
    "\n",
    "import sys\n",
    "sys.path.append('..')  # enable import from src/"
   ]
  },
  {
   "cell_type": "code",
   "execution_count": 68,
   "metadata": {},
   "outputs": [],
   "source": [
    "import pickle\n",
    "\n",
    "import numpy as np\n",
    "import torch\n",
    "import matplotlib.pyplot as plt\n",
    "\n",
    "from tqdm.notebook import tqdm\n",
    "from torch.utils.data import DataLoader\n",
    "\n",
    "from src.model import get_model, encode_fixing\n",
    "from src.net import ObjSurrogate\n",
    "from src.dataset import EarlyFixingDataset"
   ]
  },
  {
   "cell_type": "code",
   "execution_count": 3,
   "metadata": {},
   "outputs": [
    {
     "data": {
      "text/plain": [
       "dict_keys(['JUB-48', 'JUB-55', 'JUB-58'])"
      ]
     },
     "execution_count": 3,
     "metadata": {},
     "output_type": "execute_result"
    }
   ],
   "source": [
    "with open('../ef_objs.pkl', 'rb') as f:\n",
    "    ef_objs = pickle.load(f)\n",
    "\n",
    "ef_objs.keys()"
   ]
  },
  {
   "cell_type": "code",
   "execution_count": 4,
   "metadata": {},
   "outputs": [],
   "source": [
    "X = list()\n",
    "y = list()\n",
    "for n in ef_objs.keys():\n",
    "    for c1, c2, gl1, gl2 in ef_objs[n].keys():\n",
    "        c_pair = (c1, c2)\n",
    "        gl_pair = (gl1, gl2)\n",
    "\n",
    "        c_mbd, gl_mbd = encode_fixing(c_pair, gl_pair, n)\n",
    "\n",
    "        X.append((n, c_mbd, gl_mbd))\n",
    "        y.append(ef_objs[n][c1, c2, gl1, gl2])"
   ]
  },
  {
   "cell_type": "code",
   "execution_count": 27,
   "metadata": {},
   "outputs": [
    {
     "name": "stdout",
     "output_type": "stream",
     "text": [
      "Set parameter IntFeasTol to value 1e-09\n"
     ]
    },
    {
     "data": {
      "text/plain": [
       "torch.float64"
      ]
     },
     "execution_count": 27,
     "metadata": {},
     "output_type": "execute_result"
    }
   ],
   "source": [
    "well, c_mbd, gl_mbd = X[0]\n",
    "\n",
    "model = get_model([well,])\n",
    "\n",
    "A = model.getA().toarray()\n",
    "b = np.array(model.getAttr('rhs'))\n",
    "\n",
    "\n",
    "A = torch.from_numpy(A).unsqueeze(0)\n",
    "b = torch.from_numpy(b).unsqueeze(0)\n",
    "z_c = torch.from_numpy(c_mbd).unsqueeze(0)\n",
    "z_gl = torch.from_numpy(gl_mbd).unsqueeze(0)\n",
    "\n",
    "torch.hstack([A.flatten(1), b, z_c, z_gl]).dtype"
   ]
  },
  {
   "cell_type": "code",
   "execution_count": 32,
   "metadata": {},
   "outputs": [
    {
     "data": {
      "text/plain": [
       "tensor([[4342115.8560]], dtype=torch.float64, grad_fn=<AddmmBackward0>)"
      ]
     },
     "execution_count": 32,
     "metadata": {},
     "output_type": "execute_result"
    }
   ],
   "source": [
    "net = ObjSurrogate().double()\n",
    "\n",
    "net(A, b, z_c, z_gl)"
   ]
  },
  {
   "attachments": {},
   "cell_type": "markdown",
   "metadata": {},
   "source": [
    "# Train"
   ]
  },
  {
   "cell_type": "code",
   "execution_count": 76,
   "metadata": {},
   "outputs": [
    {
     "name": "stdout",
     "output_type": "stream",
     "text": [
      "Set parameter IntFeasTol to value 1e-09\n",
      "Set parameter IntFeasTol to value 1e-09\n",
      "Set parameter IntFeasTol to value 1e-09\n"
     ]
    },
    {
     "data": {
      "application/vnd.jupyter.widget-view+json": {
       "model_id": "6d6df51ed33445059d379526cc5a0748",
       "version_major": 2,
       "version_minor": 0
      },
      "text/plain": [
       "  0%|          | 0/10000 [00:00<?, ?it/s]"
      ]
     },
     "metadata": {},
     "output_type": "display_data"
    }
   ],
   "source": [
    "net = ObjSurrogate().double()\n",
    "\n",
    "opt = torch.optim.Adam(net.parameters(), lr=.01)\n",
    "loss_fun = torch.nn.MSELoss()\n",
    "\n",
    "ef_objs_train = ef_objs.copy()\n",
    "ef_objs_train.pop('JUB-58', None)\n",
    "\n",
    "ds_train = EarlyFixingDataset(ef_objs_train)\n",
    "\n",
    "ef_objs_test = ef_objs.copy()\n",
    "ef_objs_test.pop('JUB-48', None)\n",
    "ef_objs_test.pop('JUB-55', None)\n",
    "\n",
    "ds_test = EarlyFixingDataset(ef_objs_test)\n",
    "\n",
    "dl_train = DataLoader(ds_train, 2**4, shuffle=True)\n",
    "dl_test = DataLoader(ds_test, 2**4)\n",
    "\n",
    "train_losses = list()\n",
    "test_losses = list()\n",
    "for _ in tqdm(list(range(10000))):\n",
    "    net.train()\n",
    "    train_loss = 0\n",
    "    for (A, b, z_c, z_gl), y in dl_train:\n",
    "\n",
    "        y_hat = net(A, b, z_c, z_gl)\n",
    "\n",
    "        loss = loss_fun(y_hat, y.unsqueeze(-1).double())\n",
    "\n",
    "        opt.zero_grad()\n",
    "        loss.backward()\n",
    "        opt.step()\n",
    "\n",
    "        train_loss += loss.item() / len(y)\n",
    "        break\n",
    "    train_losses.append(train_loss / len(dl_train))\n",
    "\n",
    "    net.eval()\n",
    "    test_loss = 0\n",
    "    for (A, b, z_c, z_gl), y in dl_test:\n",
    "        with torch.no_grad():\n",
    "            y_hat = net(A, b, z_c, z_gl)\n",
    "\n",
    "            loss = loss_fun(y_hat, y.unsqueeze(-1).double())\n",
    "\n",
    "        test_loss += loss.item() / len(y)\n",
    "    test_losses.append(test_loss / len(dl_test))\n",
    "\n",
    "plt.plot(train_losses, label='train')\n",
    "plt.plot(test_losses, label='test')\n",
    "plt.title('Loss')\n",
    "plt.ylabel('MSE')\n",
    "plt.xlabel('epoch')\n",
    "plt.legend()\n",
    "plt.yscale('log')\n",
    "plt.show()"
   ]
  }
 ],
 "metadata": {
  "kernelspec": {
   "display_name": "gnns",
   "language": "python",
   "name": "python3"
  },
  "language_info": {
   "codemirror_mode": {
    "name": "ipython",
    "version": 3
   },
   "file_extension": ".py",
   "mimetype": "text/x-python",
   "name": "python",
   "nbconvert_exporter": "python",
   "pygments_lexer": "ipython3",
   "version": "3.10.9"
  },
  "orig_nbformat": 4
 },
 "nbformat": 4,
 "nbformat_minor": 2
}

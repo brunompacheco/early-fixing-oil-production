{
 "cells": [
  {
   "cell_type": "code",
   "execution_count": 1,
   "metadata": {},
   "outputs": [],
   "source": [
    "%load_ext autoreload\n",
    "%autoreload 2\n",
    "\n",
    "import sys\n",
    "sys.path.append('..')  # enable import from src/"
   ]
  },
  {
   "cell_type": "code",
   "execution_count": 134,
   "metadata": {},
   "outputs": [],
   "source": [
    "import pickle\n",
    "\n",
    "import numpy as np\n",
    "import torch\n",
    "import matplotlib.pyplot as plt\n",
    "\n",
    "from tqdm.notebook import tqdm\n",
    "\n",
    "from src.eval import get_accuracy_gaps, get_mae_feas\n",
    "from src.model import get_model, get_C_GL, fix_c_gl, decode_fixing\n",
    "from src.net import ObjSurrogate, Fixer\n",
    "from src.utils import load_from_wandb\n",
    "from src.dataset import EarlyFixingDataset, WellObjDataset"
   ]
  },
  {
   "cell_type": "code",
   "execution_count": 3,
   "metadata": {},
   "outputs": [
    {
     "data": {
      "text/plain": [
       "10000"
      ]
     },
     "execution_count": 3,
     "metadata": {},
     "output_type": "execute_result"
    }
   ],
   "source": [
    "with open('../ef_objs.pkl', 'rb') as f:\n",
    "    ef_objs = pickle.load(f)\n",
    "\n",
    "wells = list(ef_objs.keys())\n",
    "\n",
    "np.random.seed(42)\n",
    "test_is = np.random.choice(len(wells), int(0.2 * len(wells)), replace=False)\n",
    "test_wells = [wells[i] for i in test_is]\n",
    "ef_objs_test = {w: ef_objs[w] for w in test_wells}\n",
    "\n",
    "ds = EarlyFixingDataset(ef_objs_test)\n",
    "len(ds)"
   ]
  },
  {
   "attachments": {},
   "cell_type": "markdown",
   "metadata": {},
   "source": [
    "# Supervised"
   ]
  },
  {
   "cell_type": "code",
   "execution_count": 160,
   "metadata": {},
   "outputs": [
    {
     "name": "stderr",
     "output_type": "stream",
     "text": [
      "100%|██████████| 10000/10000 [00:01<00:00, 5496.45it/s]\n",
      "100%|██████████| 10000/10000 [00:01<00:00, 5751.59it/s]\n",
      "100%|██████████| 10000/10000 [00:01<00:00, 5858.42it/s]\n",
      "100%|██████████| 10000/10000 [00:01<00:00, 5804.63it/s]\n",
      "100%|██████████| 10000/10000 [00:01<00:00, 5883.98it/s]\n"
     ]
    },
    {
     "name": "stdout",
     "output_type": "stream",
     "text": [
      "Accuracy =  0.99778\n",
      "Infeasible =  0.00106\n",
      "Gap =  0.08126123884977118\n"
     ]
    }
   ],
   "source": [
    "accs = list()\n",
    "gapss = list()\n",
    "model_ids = ['o7arihlb', 'jp24pkwb', 'm95c8k43', 'q103zyc1', 'mlnju8dq']\n",
    "for mid in model_ids:\n",
    "    fixer = load_from_wandb(Fixer(layers=[25, 25]), mid, 'gef-fs')\n",
    "    fixer.eval()\n",
    "\n",
    "    acc, gaps = get_accuracy_gaps(fixer, ds)\n",
    "    accs.append(acc)\n",
    "    gapss.append(gaps)\n",
    "\n",
    "all_gaps = list()\n",
    "for gaps in gapss:\n",
    "    all_gaps += gaps\n",
    "inf_miss = sum(g < 0 for g in all_gaps) / (5 * len(ds))\n",
    "\n",
    "pos_gaps = [g for g in all_gaps if g > 0]\n",
    "avg_gap = sum(pos_gaps) / len(pos_gaps)\n",
    "\n",
    "print('Accuracy = ', sum(accs) / 5)\n",
    "print('Infeasible = ', inf_miss)\n",
    "print('Gap = ', avg_gap)"
   ]
  },
  {
   "cell_type": "code",
   "execution_count": 153,
   "metadata": {},
   "outputs": [
    {
     "data": {
      "text/plain": [
       "0.08560547912488121"
      ]
     },
     "execution_count": 153,
     "metadata": {},
     "output_type": "execute_result"
    }
   ],
   "source": [
    "np.std(pos_gaps)"
   ]
  },
  {
   "cell_type": "markdown",
   "metadata": {},
   "source": [
    "# Semi-supervised"
   ]
  },
  {
   "attachments": {},
   "cell_type": "markdown",
   "metadata": {},
   "source": [
    "## Surrogate"
   ]
  },
  {
   "cell_type": "code",
   "execution_count": 137,
   "metadata": {},
   "outputs": [
    {
     "name": "stderr",
     "output_type": "stream",
     "text": [
      "100%|██████████| 250000/250000 [00:49<00:00, 5041.48it/s]\n",
      "100%|██████████| 250000/250000 [00:49<00:00, 5034.17it/s]\n",
      "100%|██████████| 250000/250000 [00:49<00:00, 5071.10it/s]\n",
      "100%|██████████| 250000/250000 [00:49<00:00, 5031.24it/s]\n",
      "100%|██████████| 250000/250000 [00:49<00:00, 5087.45it/s]\n"
     ]
    },
    {
     "data": {
      "text/plain": [
       "(60.049558552683415, 0.7823184000000001)"
      ]
     },
     "execution_count": 137,
     "metadata": {},
     "output_type": "execute_result"
    }
   ],
   "source": [
    "surr_ds = WellObjDataset(ef_objs_test)\n",
    "\n",
    "maes = list()\n",
    "accs = list()\n",
    "model_ids = ['2xz377hr', 'vswo49uu', 'tj3pelgm', 'sj73ephx', 'etpop2ab']\n",
    "for mid in model_ids:\n",
    "    surrogate = load_from_wandb(ObjSurrogate(layers=[10, 10, 10]), mid, 'gef-fs')\n",
    "    surrogate.eval()\n",
    "\n",
    "    mae, acc = get_mae_feas(surrogate, surr_ds)\n",
    "\n",
    "    maes.append(mae)\n",
    "    accs.append(acc)\n",
    "sum(maes) / len(maes), sum(accs) / len(accs)"
   ]
  },
  {
   "attachments": {},
   "cell_type": "markdown",
   "metadata": {},
   "source": [
    "## Fixer"
   ]
  },
  {
   "cell_type": "code",
   "execution_count": 161,
   "metadata": {},
   "outputs": [
    {
     "name": "stderr",
     "output_type": "stream",
     "text": [
      "100%|██████████| 10000/10000 [00:01<00:00, 5535.19it/s]\n",
      "100%|██████████| 10000/10000 [00:01<00:00, 5828.50it/s]\n",
      "100%|██████████| 10000/10000 [00:01<00:00, 5493.98it/s]\n",
      "100%|██████████| 10000/10000 [00:01<00:00, 5847.60it/s]\n",
      "100%|██████████| 10000/10000 [00:01<00:00, 5533.24it/s]\n"
     ]
    },
    {
     "name": "stdout",
     "output_type": "stream",
     "text": [
      "Accuracy =  0.3231\n",
      "Infeasible =  0.04192\n",
      "Gap =  16.899357638752324\n"
     ]
    }
   ],
   "source": [
    "accs = list()\n",
    "gapss = list()\n",
    "model_ids = ['jtf1baqr', '8x2wtn2c', 'r3gkwm67', 'zni5mpm3', 'xr36e99h']\n",
    "for mid in model_ids:\n",
    "    fixer = load_from_wandb(Fixer(layers=[25, 25]), mid, 'gef-fs')\n",
    "    fixer.eval()\n",
    "\n",
    "    acc, gaps = get_accuracy_gaps(fixer, ds)\n",
    "    accs.append(acc)\n",
    "    gapss.append(gaps)\n",
    "\n",
    "all_gaps = list()\n",
    "for gaps in gapss:\n",
    "    all_gaps += gaps\n",
    "inf_miss = sum(g < 0 for g in all_gaps) / (5 * len(ds))\n",
    "\n",
    "pos_gaps = [g for g in all_gaps if g > 0]\n",
    "avg_gap = sum(pos_gaps) / len(pos_gaps)\n",
    "\n",
    "print('Accuracy = ', sum(accs) / 5)\n",
    "print('Infeasible = ', inf_miss)\n",
    "print('Gap = ', avg_gap)"
   ]
  },
  {
   "cell_type": "code",
   "execution_count": 144,
   "metadata": {},
   "outputs": [
    {
     "data": {
      "text/plain": [
       "(array([8620., 5930., 5148., 4976., 3910., 1785.,  794.,  375.,  156.,\n",
       "          55.]),\n",
       " array([7.74121057e-05, 6.72200275e+00, 1.34439281e+01, 2.01658534e+01,\n",
       "        2.68877788e+01, 3.36097041e+01, 4.03316295e+01, 4.70535548e+01,\n",
       "        5.37754801e+01, 6.04974055e+01, 6.72193308e+01]),\n",
       " <BarContainer object of 10 artists>)"
      ]
     },
     "execution_count": 144,
     "metadata": {},
     "output_type": "execute_result"
    },
    {
     "data": {
      "image/png": "[encoded data removed]",
      "text/plain": [
       "<Figure size 640x480 with 1 Axes>"
      ]
     },
     "metadata": {},
     "output_type": "display_data"
    }
   ],
   "source": [
    "plt.hist(pos_gaps)"
   ]
  }
 ],
 "metadata": {
  "kernelspec": {
   "display_name": "gnns",
   "language": "python",
   "name": "python3"
  },
  "language_info": {
   "codemirror_mode": {
    "name": "ipython",
    "version": 3
   },
   "file_extension": ".py",
   "mimetype": "text/x-python",
   "name": "python",
   "nbconvert_exporter": "python",
   "pygments_lexer": "ipython3",
   "version": "3.10.9"
  },
  "orig_nbformat": 4
 },
 "nbformat": 4,
 "nbformat_minor": 2
}
